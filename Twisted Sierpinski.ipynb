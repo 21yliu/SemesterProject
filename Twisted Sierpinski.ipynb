{
 "cells": [
  {
   "cell_type": "markdown",
   "metadata": {},
   "source": [
    "Note about Turtle Library: To avoid terminator errors caused by the external window, the window must be closed (window closes upon clicking) before running the program again. In addition, the program might need to be run twice to restart the window. "
   ]
  },
  {
   "cell_type": "code",
   "execution_count": 37,
   "metadata": {},
   "outputs": [],
   "source": [
    "from turtle import * \n",
    "from random import * "
   ]
  },
  {
   "cell_type": "code",
   "execution_count": 38,
   "metadata": {},
   "outputs": [],
   "source": [
    "#uses turtle library functions to draw triangle\n",
    "\n",
    "def drawTriangle(points, deg, myTurtle):\n",
    "    \n",
    "    myTurtle.goto(points[1][0],points[1][1])\n",
    "    myTurtle.goto(points[2][0],points[2][1])\n",
    "    myTurtle.goto(points[0][0],points[0][1])\n",
    "\n",
    "#returns midpoint of two points\n",
    "    \n",
    "def getMid(p1,p2):\n",
    "    return ( (p1[0]+p2[0]) / 2, (p1[1] + p2[1]) / 2)\n",
    "\n",
    "#recursive function that finds new points of subset of triangles and calls the function to draw them.\n",
    "#although the turtle goes through the motions of all triangles, it will only draw the smallest subset\n",
    "#this necessitates a numTri variable \n",
    "\n",
    "def sierpinski(points, degree, myTurtle, numTri, layer): #(mod)\n",
    "    \n",
    "    \n",
    "    if degree > 0: #degree is amount of subsets to divide triangles into\n",
    "        \n",
    "        myTurtle.up()\n",
    "        myTurtle.goto(points[0][0],points[0][1])\n",
    "        \n",
    "        if numTri == 3: #(mod)\n",
    "            layer +=1 #(mod)\n",
    "            numTri = 0 #(mod)\n",
    "        \n",
    "        if layer == degree: #if at smallest subset (mod)\n",
    "            myTurtle.pendown() #begin drawing sierpinski (mod)\n",
    "            \n",
    "        drawTriangle(points, degree, myTurtle) #(mod)\n",
    "        numTri +=1 #(mod)\n",
    "        \n",
    "        #randomization of points while mantaining vertices and subset organization \n",
    "        \n",
    "        p1 = tuple(x+randint(-30,30) for x in points[0]) #(mod)\n",
    "        p2 = tuple(x+randint(-30,30) for x in points[1]) #(mod)\n",
    "        p3 = tuple(x+randint(-30,30) for x in points[2]) #(mod)\n",
    "        \n",
    "        sierpinski([points[0], getMid(p1, p2), getMid(p1, p3)], degree-1, myTurtle, numTri, layer)\n",
    "        \n",
    "        sierpinski([points[1], getMid(p1, p2), getMid(p2, p3)], degree-1, myTurtle, numTri, layer)\n",
    "        \n",
    "        sierpinski([points[2],getMid(p3, p2), getMid(p1, p3)], degree-1, myTurtle, numTri, layer)\n",
    "        \n"
   ]
  },
  {
   "cell_type": "code",
   "execution_count": 39,
   "metadata": {
    "scrolled": true
   },
   "outputs": [
    {
     "name": "stdout",
     "output_type": "stream",
     "text": [
      "i\n",
      "i\n",
      "i\n",
      "i\n"
     ]
    }
   ],
   "source": [
    "myTurtle = Turtle()\n",
    "myWin = Screen()\n",
    "myTurtle.clear()\n",
    "myPoints = [[-250,-100],[100,245],[250,-100]]\n",
    "numTri = 0\n",
    "layer = 0\n",
    "degree = 1 #<=6\n",
    "myTurtle.speed(0)\n",
    "\n",
    "sierpinski(myPoints, degree, myTurtle, numTri, layer)\n",
    "myWin.exitonclick()"
   ]
  }
 ],
 "metadata": {
  "kernelspec": {
   "display_name": "Python 3",
   "language": "python",
   "name": "python3"
  },
  "language_info": {
   "codemirror_mode": {
    "name": "ipython",
    "version": 3
   },
   "file_extension": ".py",
   "mimetype": "text/x-python",
   "name": "python",
   "nbconvert_exporter": "python",
   "pygments_lexer": "ipython3",
   "version": "3.8.3"
  }
 },
 "nbformat": 4,
 "nbformat_minor": 4
}
