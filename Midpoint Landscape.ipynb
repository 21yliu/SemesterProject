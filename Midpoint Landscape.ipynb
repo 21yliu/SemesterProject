{
 "cells": [
  {
   "cell_type": "markdown",
   "metadata": {},
   "source": [
    "Note about Turtle Library: To avoid terminator errors caused by the external window, the window must be closed (window closes upon clicking) before running the program again. In addition, the program might need to be run twice to restart the window. "
   ]
  },
  {
   "cell_type": "code",
   "execution_count": 1,
   "metadata": {},
   "outputs": [],
   "source": [
    "from turtle import * \n",
    "from random import randint"
   ]
  },
  {
   "cell_type": "code",
   "execution_count": 2,
   "metadata": {},
   "outputs": [],
   "source": [
    "#Takes list of points and draws one line that touches all points \n",
    "\n",
    "def drawMount(points, color, t): \n",
    "      \n",
    "    level = points[0][0]\n",
    "    t.color(color)\n",
    "    t.begin_fill()\n",
    "    t.penup()\n",
    "    t.goto(points[0][0],points[0][1])\n",
    "    t.pendown()\n",
    "    for i in range(1,len(points)):\n",
    "        t.goto(points[i][0], points[i][1])\n",
    "    t.goto(level*-1,level)\n",
    "    t.goto(level,level)\n",
    "    t.goto(points[0][0],points[0][1])\n",
    "    t.end_fill()"
   ]
  },
  {
   "cell_type": "code",
   "execution_count": 3,
   "metadata": {},
   "outputs": [],
   "source": [
    "#Returns average/midpoint of two numbers\n",
    "\n",
    "def getMid(p1,p2): \n",
    "    return (p1+p2) / 2\n",
    "\n",
    "#Recursively computes all midterms dictated by degree starting with the midpoint of endpoints. \n",
    "#returns list of x-values which are midpoints\n",
    "\n",
    "def recurs(xPts, degree):\n",
    "    while degree > 0:\n",
    "        #print(\"called\")\n",
    "        newX = []\n",
    "        \n",
    "        for i in range(len(xPts)-1):\n",
    "            newX.append(getMid(xPts[i],xPts[i+1]))\n",
    "            \n",
    "        for i in range (len(newX)):\n",
    "            if newX[i] not in xPts:\n",
    "                xPts.append(newX[i]) \n",
    "                xPts.sort() #Midpoints must be sorted after they are added to list so that they are drawn in order\n",
    "                \n",
    "        degree-=1\n",
    "        recurs(xPts,degree)\n",
    "        \n",
    "#converts one dimensional list of x-values to list of list of points\n",
    "#randomizes y-values\n",
    "#calls the recursive and graphics functions\n",
    "        \n",
    "def mountain(x, y, t, color, degree):\n",
    " \n",
    "    newX = [-1*x, x]\n",
    "    recurs(newX, degree)\n",
    "    \n",
    "    points = []\n",
    "    \n",
    "    for i in range(len(newX)): \n",
    "        points.append([newX[i],y+randint(-80,80)])\n",
    "    \n",
    "    drawMount(points, color, t)\n"
   ]
  },
  {
   "cell_type": "code",
   "execution_count": 4,
   "metadata": {},
   "outputs": [],
   "source": [
    "def drawSun(radius, x, y):\n",
    "    t.penup()\n",
    "    t.goto(x,y)\n",
    "    t.pendown()\n",
    "    t.dot(radius,'lightyellow')\n",
    "    t.penup()\n",
    "    t.goto(500,500) #moves turtle arrow out of frame"
   ]
  },
  {
   "cell_type": "code",
   "execution_count": null,
   "metadata": {
    "scrolled": true
   },
   "outputs": [],
   "source": [
    "#Initializes turtle and screen objects\n",
    "\n",
    "t = Turtle()\n",
    "myWin = Screen()\n",
    "t.clear()\n",
    "t.speed(0)\n",
    "\n",
    "myWin.bgcolor('aliceblue') #background color\n",
    "\n",
    "drawSun(150,-200,170)\n",
    "\n",
    "#recursive mountains\n",
    "\n",
    "mountain(400, 120, t, 'lightsteelblue', 2)\n",
    "mountain(400,30, t,'cornflowerblue',2)\n",
    "\n",
    "#technically these are trees \n",
    "\n",
    "mountain(400,-60,t,'darkgreen',3)\n",
    "mountain(400,-140,t,'forestgreen',3)\n",
    "\n",
    "\n",
    "myWin.exitonclick()\n",
    "        "
   ]
  }
 ],
 "metadata": {
  "kernelspec": {
   "display_name": "Python 3",
   "language": "python",
   "name": "python3"
  },
  "language_info": {
   "codemirror_mode": {
    "name": "ipython",
    "version": 3
   },
   "file_extension": ".py",
   "mimetype": "text/x-python",
   "name": "python",
   "nbconvert_exporter": "python",
   "pygments_lexer": "ipython3",
   "version": "3.8.3"
  }
 },
 "nbformat": 4,
 "nbformat_minor": 4
}
